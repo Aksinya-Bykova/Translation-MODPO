{
  "cells": [
    {
      "cell_type": "markdown",
      "metadata": {
        "id": "pU8f5O1E-pYL"
      },
      "source": [
        "# Installation"
      ]
    },
    {
      "cell_type": "code",
      "execution_count": null,
      "metadata": {
        "colab": {
          "base_uri": "https://localhost:8080/"
        },
        "id": "5g0IpFX7_8s7",
        "outputId": "d1283c02-099e-4cb4-d544-0749d3348eba"
      },
      "outputs": [
        {
          "name": "stdout",
          "output_type": "stream",
          "text": [
            "Archive:  modpo.zip\n",
            "   creating: modpo/\n",
            "   creating: modpo/.git/\n",
            "   creating: modpo/.git/info/\n",
            "  inflating: modpo/.git/info/exclude  \n",
            "   creating: modpo/.git/branches/\n",
            "  inflating: modpo/.git/description  \n",
            "   creating: modpo/.git/hooks/\n",
            "  inflating: modpo/.git/hooks/prepare-commit-msg.sample  \n",
            "  inflating: modpo/.git/hooks/commit-msg.sample  \n",
            "  inflating: modpo/.git/hooks/pre-rebase.sample  \n",
            "  inflating: modpo/.git/hooks/applypatch-msg.sample  \n",
            "  inflating: modpo/.git/hooks/post-update.sample  \n",
            "  inflating: modpo/.git/hooks/pre-applypatch.sample  \n",
            "  inflating: modpo/.git/hooks/pre-receive.sample  \n",
            "  inflating: modpo/.git/hooks/pre-commit.sample  \n",
            "  inflating: modpo/.git/hooks/pre-merge-commit.sample  \n",
            "  inflating: modpo/.git/hooks/fsmonitor-watchman.sample  \n",
            "  inflating: modpo/.git/hooks/pre-push.sample  \n",
            "  inflating: modpo/.git/hooks/push-to-checkout.sample  \n",
            "  inflating: modpo/.git/hooks/update.sample  \n",
            "   creating: modpo/.git/refs/\n",
            "   creating: modpo/.git/refs/heads/\n",
            "  inflating: modpo/.git/refs/heads/main  \n",
            "   creating: modpo/.git/refs/tags/\n",
            "   creating: modpo/.git/refs/remotes/\n",
            "   creating: modpo/.git/refs/remotes/origin/\n",
            "  inflating: modpo/.git/refs/remotes/origin/HEAD  \n",
            "  inflating: modpo/.git/index        \n",
            "   creating: modpo/.git/objects/\n",
            "   creating: modpo/.git/objects/pack/\n",
            "  inflating: modpo/.git/objects/pack/pack-fb66870e97f76df927e92a74e77dd75d59498af6.pack  \n",
            "  inflating: modpo/.git/objects/pack/pack-fb66870e97f76df927e92a74e77dd75d59498af6.idx  \n",
            "   creating: modpo/.git/objects/info/\n",
            "  inflating: modpo/.git/config       \n",
            "  inflating: modpo/.git/packed-refs  \n",
            "   creating: modpo/.git/logs/\n",
            "   creating: modpo/.git/logs/refs/\n",
            "   creating: modpo/.git/logs/refs/remotes/\n",
            "   creating: modpo/.git/logs/refs/remotes/origin/\n",
            "  inflating: modpo/.git/logs/refs/remotes/origin/HEAD  \n",
            "   creating: modpo/.git/logs/refs/heads/\n",
            "  inflating: modpo/.git/logs/refs/heads/main  \n",
            "  inflating: modpo/.git/logs/HEAD    \n",
            "  inflating: modpo/.git/HEAD         \n",
            "  inflating: modpo/.gitignore        \n",
            "  inflating: modpo/README.md         \n",
            "  inflating: modpo/requirements.txt  \n",
            "   creating: modpo/scripts/\n",
            "   creating: modpo/scripts/accelerate_configs/\n",
            "  inflating: modpo/scripts/accelerate_configs/deepspeed_zero1.yaml  \n",
            "  inflating: modpo/scripts/accelerate_configs/deepspeed_zero2.yaml  \n",
            "  inflating: modpo/scripts/accelerate_configs/deepspeed_zero3.yaml  \n",
            "  inflating: modpo/scripts/accelerate_configs/fsdp_llama.yaml  \n",
            "  inflating: modpo/scripts/accelerate_configs/multi_gpu.yaml  \n",
            "   creating: modpo/scripts/examples/\n",
            "   creating: modpo/scripts/examples/dpo/\n",
            "  inflating: modpo/scripts/examples/dpo/dpo.py  \n",
            "  inflating: modpo/scripts/examples/dpo/run.sh  \n",
            "   creating: modpo/scripts/examples/rm/\n",
            "  inflating: modpo/scripts/examples/rm/rm.py  \n",
            "  inflating: modpo/scripts/examples/rm/run.sh  \n",
            "   creating: modpo/scripts/examples/sft/\n",
            "  inflating: modpo/scripts/examples/sft/run.sh  \n",
            "  inflating: modpo/scripts/examples/sft/sft.py  \n",
            "   creating: modpo/scripts/modpo/\n",
            "   creating: modpo/scripts/modpo/beavertails/\n",
            "  inflating: modpo/scripts/modpo/beavertails/README.md  \n",
            "  inflating: modpo/scripts/modpo/beavertails/modpo.py  \n",
            "  inflating: modpo/scripts/modpo/beavertails/run.sh  \n",
            "   creating: modpo/scripts/modpo/beavertails/utils/\n",
            "  inflating: modpo/scripts/modpo/beavertails/utils/gen.py  \n",
            "  inflating: modpo/scripts/modpo/beavertails/utils/gen.sh  \n",
            "  inflating: modpo/scripts/modpo/beavertails/utils/score.py  \n",
            "  inflating: modpo/scripts/modpo/beavertails/utils/score.sh  \n",
            "  inflating: modpo/scripts/modpo/beavertails/utils/score_model.py  \n",
            "   creating: modpo/scripts/modpo/summarize_w_length_penalty/\n",
            "  inflating: modpo/scripts/modpo/summarize_w_length_penalty/README.md  \n",
            "  inflating: modpo/scripts/modpo/summarize_w_length_penalty/modpo.py  \n",
            "  inflating: modpo/scripts/modpo/summarize_w_length_penalty/run.sh  \n",
            "   creating: modpo/src/\n",
            "   creating: modpo/src/data/\n",
            "  inflating: modpo/src/data/configs.py  \n",
            "   creating: modpo/src/data/raw_data/\n",
            "  inflating: modpo/src/data/raw_data/__init__.py  \n",
            "  inflating: modpo/src/data/raw_data/helpsteer.py  \n",
            "  inflating: modpo/src/data/raw_data/hh_rlhf.py  \n",
            "  inflating: modpo/src/data/raw_data/safe_rlhf.py  \n",
            "  inflating: modpo/src/data/raw_data/shp.py  \n",
            "  inflating: modpo/src/data/raw_data/stack_exchange_paired.py  \n",
            "  inflating: modpo/src/data/raw_data/summarize_from_feedback.py  \n",
            "  inflating: modpo/src/data/raw_data/ultrafeedback.py  \n",
            "  inflating: modpo/src/data/raw_data/utils.py  \n",
            "   creating: modpo/src/tools/\n",
            "  inflating: modpo/src/tools/merge_peft_adapter.py  \n",
            "   creating: modpo/src/trainer/\n",
            "  inflating: modpo/src/trainer/dpo_trainer.py  \n",
            "  inflating: modpo/src/trainer/modpo_trainer.py  \n",
            "  inflating: modpo/src/trainer/rm_trainer.py  \n",
            "  inflating: modpo/src/trainer/sft_trainer.py  \n",
            "   creating: modpo/src/utils/\n",
            "  inflating: modpo/src/utils/__init__.py  \n",
            "  inflating: modpo/src/utils/reward.py  \n",
            "  inflating: modpo/src/utils/utils.py  \n"
          ]
        }
      ],
      "source": [
        "!unzip modpo"
      ]
    },
    {
      "cell_type": "code",
      "execution_count": null,
      "metadata": {
        "colab": {
          "background_save": true,
          "base_uri": "https://localhost:8080/"
        },
        "id": "GI883Jaa95P5",
        "outputId": "e6b83917-ad76-4875-d5b0-b381fca06187"
      },
      "outputs": [
        {
          "name": "stdout",
          "output_type": "stream",
          "text": [
            "/bin/bash: line 1: conda: command not found\n",
            "/bin/bash: line 1: conda: command not found\n",
            "Looking in indexes: https://download.pytorch.org/whl/cu118\n",
            "Collecting torch==2.1.0\n",
            "  Downloading https://download.pytorch.org/whl/cu118/torch-2.1.0%2Bcu118-cp310-cp310-linux_x86_64.whl (2325.9 MB)\n",
            "\u001b[2K     \u001b[90m━━━━━━━━━━━━━━━━━━━━━━━━━━━━━━━━━━━━━━━━\u001b[0m \u001b[32m2.3/2.3 GB\u001b[0m \u001b[31m460.1 kB/s\u001b[0m eta \u001b[36m0:00:00\u001b[0m\n",
            "\u001b[?25hRequirement already satisfied: filelock in /usr/local/lib/python3.10/dist-packages (from torch==2.1.0) (3.16.1)\n",
            "Requirement already satisfied: typing-extensions in /usr/local/lib/python3.10/dist-packages (from torch==2.1.0) (4.12.2)\n",
            "Requirement already satisfied: sympy in /usr/local/lib/python3.10/dist-packages (from torch==2.1.0) (1.13.3)\n",
            "Requirement already satisfied: networkx in /usr/local/lib/python3.10/dist-packages (from torch==2.1.0) (3.3)\n",
            "Requirement already satisfied: jinja2 in /usr/local/lib/python3.10/dist-packages (from torch==2.1.0) (3.1.4)\n",
            "Requirement already satisfied: fsspec in /usr/local/lib/python3.10/dist-packages (from torch==2.1.0) (2024.6.1)\n",
            "Collecting triton==2.1.0 (from torch==2.1.0)\n",
            "  Downloading https://download.pytorch.org/whl/triton-2.1.0-0-cp310-cp310-manylinux2014_x86_64.manylinux_2_17_x86_64.whl (89.2 MB)\n",
            "\u001b[2K     \u001b[90m━━━━━━━━━━━━━━━━━━━━━━━━━━━━━━━━━━━━━━━━\u001b[0m \u001b[32m89.2/89.2 MB\u001b[0m \u001b[31m9.4 MB/s\u001b[0m eta \u001b[36m0:00:00\u001b[0m\n",
            "\u001b[?25hRequirement already satisfied: MarkupSafe>=2.0 in /usr/local/lib/python3.10/dist-packages (from jinja2->torch==2.1.0) (2.1.5)\n",
            "Requirement already satisfied: mpmath<1.4,>=1.1.0 in /usr/local/lib/python3.10/dist-packages (from sympy->torch==2.1.0) (1.3.0)\n",
            "Installing collected packages: triton, torch\n",
            "  Attempting uninstall: torch\n",
            "    Found existing installation: torch 2.4.1+cu121\n",
            "    Uninstalling torch-2.4.1+cu121:\n",
            "      Successfully uninstalled torch-2.4.1+cu121\n",
            "\u001b[31mERROR: pip's dependency resolver does not currently take into account all the packages that are installed. This behaviour is the source of the following dependency conflicts.\n",
            "torchaudio 2.4.1+cu121 requires torch==2.4.1, but you have torch 2.1.0+cu118 which is incompatible.\n",
            "torchvision 0.19.1+cu121 requires torch==2.4.1, but you have torch 2.1.0+cu118 which is incompatible.\u001b[0m\u001b[31m\n",
            "\u001b[0mSuccessfully installed torch-2.1.0+cu118 triton-2.1.0\n",
            "\u001b[31mERROR: Could not open requirements file: [Errno 2] No such file or directory: 'requirements.txt'\u001b[0m\u001b[31m\n",
            "\u001b[0m"
          ]
        }
      ],
      "source": [
        "!conda create -n modpo python=3.10\n",
        "!conda activate modpo\n",
        "!pip install torch==2.1.0 --index-url https://download.pytorch.org/whl/cu118\n",
        "!pip install -r requirements.txt\n",
        "# (optional) pip install flash-attn==2.3.2 --no-build-isolation"
      ]
    },
    {
      "cell_type": "code",
      "execution_count": null,
      "metadata": {
        "id": "B7dxgg1OAORk"
      },
      "outputs": [],
      "source": []
    }
  ],
  "metadata": {
    "colab": {
      "toc_visible": true,
      "provenance": [],
      "authorship_tag": "ABX9TyOiqUZGSZWsrTjl70Z0aE4k"
    },
    "kernelspec": {
      "display_name": "Python 3",
      "name": "python3"
    },
    "language_info": {
      "name": "python"
    }
  },
  "nbformat": 4,
  "nbformat_minor": 0
}