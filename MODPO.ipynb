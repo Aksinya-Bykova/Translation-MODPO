{
  "cells": [
    {
      "cell_type": "markdown",
      "metadata": {
        "id": "pU8f5O1E-pYL"
      },
      "source": [
        "# Installation"
      ]
    },
    {
      "cell_type": "code",
      "execution_count": null,
      "metadata": {
        "id": "5g0IpFX7_8s7"
      },
      "outputs": [],
      "source": [
        "!unzip modpo > /dev/null"
      ]
    },
    {
      "cell_type": "code",
      "execution_count": 8,
      "metadata": {
        "id": "GI883Jaa95P5"
      },
      "outputs": [],
      "source": [
        "# conda create -n modpo python=3.10\n",
        "# conda activate modpo\n",
        "# !pip install torch==2.1.0 --index-url https://download.pytorch.org/whl/cu118\n",
        "# !pip install -r requirements.txt\n",
        "# # (optional) pip install flash-attn==2.3.2 --no-build-isolation\n",
        "\n",
        "# Colab version, else modify code above\n",
        "# > /dev/null - to hide messages, but watch warning and errors\n",
        "!pip install virtualenv > /dev/null\n",
        "!virtualenv modpo > /dev/null\n",
        "\n",
        "!source modpo/bin/activate > /dev/null\n",
        "\n",
        "!pip install torch==2.1.0 --index-url https://download.pytorch.org/whl/cu118 > /dev/null\n",
        "\n",
        "!pip install -r modpo/requirements.txt > /dev/null\n",
        "\n",
        "!pip install flash-attn==2.3.2 --no-build-isolation > /dev/null"
      ]
    },
    {
      "cell_type": "code",
      "source": [],
      "metadata": {
        "id": "mBjVjXBNGGXs"
      },
      "execution_count": null,
      "outputs": []
    }
  ],
  "metadata": {
    "colab": {
      "provenance": [],
      "authorship_tag": "ABX9TyPEDmPIUxECvB5OCpdlUVj2"
    },
    "kernelspec": {
      "display_name": "Python 3",
      "name": "python3"
    },
    "language_info": {
      "name": "python"
    }
  },
  "nbformat": 4,
  "nbformat_minor": 0
}